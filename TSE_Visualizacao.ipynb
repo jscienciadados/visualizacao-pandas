{
  "nbformat": 4,
  "nbformat_minor": 0,
  "metadata": {
    "colab": {
      "name": "TSE_Visualizacao.ipynb",
      "provenance": [],
      "authorship_tag": "ABX9TyMVyIgYhr5BB9tLGwuaokMZ",
      "include_colab_link": true
    },
    "kernelspec": {
      "name": "python3",
      "display_name": "Python 3"
    }
  },
  "cells": [
    {
      "cell_type": "markdown",
      "metadata": {
        "id": "view-in-github",
        "colab_type": "text"
      },
      "source": [
        "<a href=\"https://colab.research.google.com/github/jscienciadados/visualizacao-pandas/blob/main/TSE_Visualizacao.ipynb\" target=\"_parent\"><img src=\"https://colab.research.google.com/assets/colab-badge.svg\" alt=\"Open In Colab\"/></a>"
      ]
    },
    {
      "cell_type": "markdown",
      "metadata": {
        "id": "PbS7H7ABVhhs"
      },
      "source": [
        "# Analisando Dados do TSE Eleiçoes Estaduais 2018 - Espirito Santo"
      ]
    },
    {
      "cell_type": "code",
      "metadata": {
        "id": "S7bK7OXsVMBD"
      },
      "source": [
        "\r\n",
        "import pandas as pd\r\n",
        "\r\n",
        "sigla_uf = 'ES'\r\n",
        "\r\n",
        "nome_arquivo = f'receitas_candidatos_2018_{sigla_uf}.csv'\r\n",
        "url_arquivo = f'https://raw.githubusercontent.com/paulosalvatore/Ocean_CienciaDados_24_02_2021/main/receitas_candidatos/{nome_arquivo}'\r\n",
        "\r\n",
        "df = pd.read_csv(url_arquivo, sep=';', encoding='latin-1', decimal=',')"
      ],
      "execution_count": 1,
      "outputs": []
    },
    {
      "cell_type": "code",
      "metadata": {
        "colab": {
          "base_uri": "https://localhost:8080/",
          "height": 332
        },
        "id": "p1-nKvPBWdTc",
        "outputId": "a19885ec-abf5-40bb-875b-5b4e301daac1"
      },
      "source": [
        "df.head(3)"
      ],
      "execution_count": 2,
      "outputs": [
        {
          "output_type": "execute_result",
          "data": {
            "text/html": [
              "<div>\n",
              "<style scoped>\n",
              "    .dataframe tbody tr th:only-of-type {\n",
              "        vertical-align: middle;\n",
              "    }\n",
              "\n",
              "    .dataframe tbody tr th {\n",
              "        vertical-align: top;\n",
              "    }\n",
              "\n",
              "    .dataframe thead th {\n",
              "        text-align: right;\n",
              "    }\n",
              "</style>\n",
              "<table border=\"1\" class=\"dataframe\">\n",
              "  <thead>\n",
              "    <tr style=\"text-align: right;\">\n",
              "      <th></th>\n",
              "      <th>DT_GERACAO</th>\n",
              "      <th>HH_GERACAO</th>\n",
              "      <th>ANO_ELEICAO</th>\n",
              "      <th>CD_TIPO_ELEICAO</th>\n",
              "      <th>NM_TIPO_ELEICAO</th>\n",
              "      <th>CD_ELEICAO</th>\n",
              "      <th>DS_ELEICAO</th>\n",
              "      <th>DT_ELEICAO</th>\n",
              "      <th>ST_TURNO</th>\n",
              "      <th>TP_PRESTACAO_CONTAS</th>\n",
              "      <th>DT_PRESTACAO_CONTAS</th>\n",
              "      <th>SQ_PRESTADOR_CONTAS</th>\n",
              "      <th>SG_UF</th>\n",
              "      <th>SG_UE</th>\n",
              "      <th>NM_UE</th>\n",
              "      <th>NR_CNPJ_PRESTADOR_CONTA</th>\n",
              "      <th>CD_CARGO</th>\n",
              "      <th>DS_CARGO</th>\n",
              "      <th>SQ_CANDIDATO</th>\n",
              "      <th>NR_CANDIDATO</th>\n",
              "      <th>NM_CANDIDATO</th>\n",
              "      <th>NR_CPF_CANDIDATO</th>\n",
              "      <th>NR_CPF_VICE_CANDIDATO</th>\n",
              "      <th>NR_PARTIDO</th>\n",
              "      <th>SG_PARTIDO</th>\n",
              "      <th>NM_PARTIDO</th>\n",
              "      <th>CD_FONTE_RECEITA</th>\n",
              "      <th>DS_FONTE_RECEITA</th>\n",
              "      <th>CD_ORIGEM_RECEITA</th>\n",
              "      <th>DS_ORIGEM_RECEITA</th>\n",
              "      <th>CD_NATUREZA_RECEITA</th>\n",
              "      <th>DS_NATUREZA_RECEITA</th>\n",
              "      <th>CD_ESPECIE_RECEITA</th>\n",
              "      <th>DS_ESPECIE_RECEITA</th>\n",
              "      <th>CD_CNAE_DOADOR</th>\n",
              "      <th>DS_CNAE_DOADOR</th>\n",
              "      <th>NR_CPF_CNPJ_DOADOR</th>\n",
              "      <th>NM_DOADOR</th>\n",
              "      <th>NM_DOADOR_RFB</th>\n",
              "      <th>CD_ESFERA_PARTIDARIA_DOADOR</th>\n",
              "      <th>DS_ESFERA_PARTIDARIA_DOADOR</th>\n",
              "      <th>SG_UF_DOADOR</th>\n",
              "      <th>CD_MUNICIPIO_DOADOR</th>\n",
              "      <th>NM_MUNICIPIO_DOADOR</th>\n",
              "      <th>SQ_CANDIDATO_DOADOR</th>\n",
              "      <th>NR_CANDIDATO_DOADOR</th>\n",
              "      <th>CD_CARGO_CANDIDATO_DOADOR</th>\n",
              "      <th>DS_CARGO_CANDIDATO_DOADOR</th>\n",
              "      <th>NR_PARTIDO_DOADOR</th>\n",
              "      <th>SG_PARTIDO_DOADOR</th>\n",
              "      <th>NM_PARTIDO_DOADOR</th>\n",
              "      <th>NR_RECIBO_DOACAO</th>\n",
              "      <th>NR_DOCUMENTO_DOACAO</th>\n",
              "      <th>SQ_RECEITA</th>\n",
              "      <th>DT_RECEITA</th>\n",
              "      <th>DS_RECEITA</th>\n",
              "      <th>VR_RECEITA</th>\n",
              "    </tr>\n",
              "  </thead>\n",
              "  <tbody>\n",
              "    <tr>\n",
              "      <th>0</th>\n",
              "      <td>11/03/2020</td>\n",
              "      <td>01:27:32</td>\n",
              "      <td>2018</td>\n",
              "      <td>2</td>\n",
              "      <td>Ordinária</td>\n",
              "      <td>297</td>\n",
              "      <td>Eleição Geral Federal 2018</td>\n",
              "      <td>07/10/2018</td>\n",
              "      <td>1</td>\n",
              "      <td>Final</td>\n",
              "      <td>28/10/2019</td>\n",
              "      <td>427245579</td>\n",
              "      <td>ES</td>\n",
              "      <td>ES</td>\n",
              "      <td>ESPÍRITO SANTO</td>\n",
              "      <td>31234606000115</td>\n",
              "      <td>7</td>\n",
              "      <td>Deputado Estadual</td>\n",
              "      <td>80000622506</td>\n",
              "      <td>12600</td>\n",
              "      <td>WALDREM MARCELO OLIVEIRA</td>\n",
              "      <td>7729957701</td>\n",
              "      <td>-1</td>\n",
              "      <td>12</td>\n",
              "      <td>PDT</td>\n",
              "      <td>Partido Democrático Trabalhista</td>\n",
              "      <td>1</td>\n",
              "      <td>Outros Recursos</td>\n",
              "      <td>10040000</td>\n",
              "      <td>Recursos de outros candidatos</td>\n",
              "      <td>0</td>\n",
              "      <td>Estimável</td>\n",
              "      <td>2</td>\n",
              "      <td>Estimado</td>\n",
              "      <td>94928</td>\n",
              "      <td>Atividades de organizações políticas</td>\n",
              "      <td>31236275000152</td>\n",
              "      <td>ELEIÇOES 2018 ANTONIO SERGIO ALVES VIDIGAL DEP...</td>\n",
              "      <td>ELEICAO 2018 ANTONIO SERGIO ALVES VIDIGAL DEPU...</td>\n",
              "      <td>#NULO#</td>\n",
              "      <td>#NULO#</td>\n",
              "      <td>ES</td>\n",
              "      <td>-1</td>\n",
              "      <td>#NULO#</td>\n",
              "      <td>80000622443</td>\n",
              "      <td>1212</td>\n",
              "      <td>6</td>\n",
              "      <td>Deputado Federal</td>\n",
              "      <td>12</td>\n",
              "      <td>PDT</td>\n",
              "      <td>Partido Democrático Trabalhista</td>\n",
              "      <td>#NULO#</td>\n",
              "      <td>#NULO#</td>\n",
              "      <td>12520046</td>\n",
              "      <td>03/10/2018</td>\n",
              "      <td>ADESIVO LEITOSO 20X40CM CASADO SERGIO/WALDREM</td>\n",
              "      <td>160.00</td>\n",
              "    </tr>\n",
              "    <tr>\n",
              "      <th>1</th>\n",
              "      <td>11/03/2020</td>\n",
              "      <td>01:27:32</td>\n",
              "      <td>2018</td>\n",
              "      <td>2</td>\n",
              "      <td>Ordinária</td>\n",
              "      <td>297</td>\n",
              "      <td>Eleição Geral Federal 2018</td>\n",
              "      <td>07/10/2018</td>\n",
              "      <td>1</td>\n",
              "      <td>Final</td>\n",
              "      <td>28/10/2019</td>\n",
              "      <td>427245579</td>\n",
              "      <td>ES</td>\n",
              "      <td>ES</td>\n",
              "      <td>ESPÍRITO SANTO</td>\n",
              "      <td>31234606000115</td>\n",
              "      <td>7</td>\n",
              "      <td>Deputado Estadual</td>\n",
              "      <td>80000622506</td>\n",
              "      <td>12600</td>\n",
              "      <td>WALDREM MARCELO OLIVEIRA</td>\n",
              "      <td>7729957701</td>\n",
              "      <td>-1</td>\n",
              "      <td>12</td>\n",
              "      <td>PDT</td>\n",
              "      <td>Partido Democrático Trabalhista</td>\n",
              "      <td>1</td>\n",
              "      <td>Outros Recursos</td>\n",
              "      <td>10040000</td>\n",
              "      <td>Recursos de outros candidatos</td>\n",
              "      <td>0</td>\n",
              "      <td>Estimável</td>\n",
              "      <td>2</td>\n",
              "      <td>Estimado</td>\n",
              "      <td>94928</td>\n",
              "      <td>Atividades de organizações políticas</td>\n",
              "      <td>31242334000103</td>\n",
              "      <td>ELEIÇÃO 2018 JOSE RENATO CASAGRANDE GOVERNADOR</td>\n",
              "      <td>ELEICAO 2018 JOSE RENATO CASAGRANDE GOVERNADOR</td>\n",
              "      <td>#NULO#</td>\n",
              "      <td>#NULO#</td>\n",
              "      <td>ES</td>\n",
              "      <td>-1</td>\n",
              "      <td>#NULO#</td>\n",
              "      <td>80000625512</td>\n",
              "      <td>40</td>\n",
              "      <td>3</td>\n",
              "      <td>Governador</td>\n",
              "      <td>40</td>\n",
              "      <td>PSB</td>\n",
              "      <td>Partido Socialista Brasileiro</td>\n",
              "      <td>126000700000ES000008E</td>\n",
              "      <td>#NULO#</td>\n",
              "      <td>12520044</td>\n",
              "      <td>01/10/2018</td>\n",
              "      <td>PRODUÇÃO DE PROGRAMA DE TV</td>\n",
              "      <td>88.23</td>\n",
              "    </tr>\n",
              "    <tr>\n",
              "      <th>2</th>\n",
              "      <td>11/03/2020</td>\n",
              "      <td>01:27:32</td>\n",
              "      <td>2018</td>\n",
              "      <td>2</td>\n",
              "      <td>Ordinária</td>\n",
              "      <td>297</td>\n",
              "      <td>Eleição Geral Federal 2018</td>\n",
              "      <td>07/10/2018</td>\n",
              "      <td>1</td>\n",
              "      <td>Final</td>\n",
              "      <td>28/10/2019</td>\n",
              "      <td>427245579</td>\n",
              "      <td>ES</td>\n",
              "      <td>ES</td>\n",
              "      <td>ESPÍRITO SANTO</td>\n",
              "      <td>31234606000115</td>\n",
              "      <td>7</td>\n",
              "      <td>Deputado Estadual</td>\n",
              "      <td>80000622506</td>\n",
              "      <td>12600</td>\n",
              "      <td>WALDREM MARCELO OLIVEIRA</td>\n",
              "      <td>7729957701</td>\n",
              "      <td>-1</td>\n",
              "      <td>12</td>\n",
              "      <td>PDT</td>\n",
              "      <td>Partido Democrático Trabalhista</td>\n",
              "      <td>2</td>\n",
              "      <td>Fundo Especial</td>\n",
              "      <td>10040000</td>\n",
              "      <td>Recursos de outros candidatos</td>\n",
              "      <td>0</td>\n",
              "      <td>Estimável</td>\n",
              "      <td>2</td>\n",
              "      <td>Estimado</td>\n",
              "      <td>94928</td>\n",
              "      <td>Atividades de organizações políticas</td>\n",
              "      <td>31242334000103</td>\n",
              "      <td>ELEIÇÃO 2018 JOSE RENATO CASAGRANDE GOVERNADOR</td>\n",
              "      <td>ELEICAO 2018 JOSE RENATO CASAGRANDE GOVERNADOR</td>\n",
              "      <td>#NULO#</td>\n",
              "      <td>#NULO#</td>\n",
              "      <td>ES</td>\n",
              "      <td>-1</td>\n",
              "      <td>#NULO#</td>\n",
              "      <td>80000625512</td>\n",
              "      <td>40</td>\n",
              "      <td>3</td>\n",
              "      <td>Governador</td>\n",
              "      <td>40</td>\n",
              "      <td>PSB</td>\n",
              "      <td>Partido Socialista Brasileiro</td>\n",
              "      <td>126000700000ES000006E</td>\n",
              "      <td>#NULO#</td>\n",
              "      <td>12520042</td>\n",
              "      <td>04/09/2018</td>\n",
              "      <td>SERVIÇOS ESPECIALIZADOS DE CRIAÇÃO DE MARCA· F...</td>\n",
              "      <td>507.61</td>\n",
              "    </tr>\n",
              "  </tbody>\n",
              "</table>\n",
              "</div>"
            ],
            "text/plain": [
              "   DT_GERACAO  ... VR_RECEITA\n",
              "0  11/03/2020  ...     160.00\n",
              "1  11/03/2020  ...      88.23\n",
              "2  11/03/2020  ...     507.61\n",
              "\n",
              "[3 rows x 57 columns]"
            ]
          },
          "metadata": {
            "tags": []
          },
          "execution_count": 2
        }
      ]
    },
    {
      "cell_type": "code",
      "metadata": {
        "id": "C_d7m2j_Y-rW"
      },
      "source": [
        "colunas = ['SQ_CANDIDATO', 'NM_CANDIDATO', 'VR_RECEITA']\r\n",
        "df_filtrado = df[colunas]"
      ],
      "execution_count": 3,
      "outputs": []
    },
    {
      "cell_type": "code",
      "metadata": {
        "colab": {
          "base_uri": "https://localhost:8080/"
        },
        "id": "XTCQjYxqaksP",
        "outputId": "c558bb0f-9152-45cc-ac93-6823d0b79b8e"
      },
      "source": [
        "len(df_filtrado.SQ_CANDIDATO.unique())"
      ],
      "execution_count": 4,
      "outputs": [
        {
          "output_type": "execute_result",
          "data": {
            "text/plain": [
              "735"
            ]
          },
          "metadata": {
            "tags": []
          },
          "execution_count": 4
        }
      ]
    },
    {
      "cell_type": "code",
      "metadata": {
        "colab": {
          "base_uri": "https://localhost:8080/"
        },
        "id": "p75SEwTUalm0",
        "outputId": "a2ab8b3c-df55-4c97-f1f0-52bd6d96aaa4"
      },
      "source": [
        "\r\n",
        "len(df_filtrado.NM_CANDIDATO.unique())"
      ],
      "execution_count": 5,
      "outputs": [
        {
          "output_type": "execute_result",
          "data": {
            "text/plain": [
              "735"
            ]
          },
          "metadata": {
            "tags": []
          },
          "execution_count": 5
        }
      ]
    },
    {
      "cell_type": "code",
      "metadata": {
        "colab": {
          "base_uri": "https://localhost:8080/"
        },
        "id": "XVrFTSY5apBg",
        "outputId": "94474fbf-aa16-4bc7-ec64-0dd43a7d8982"
      },
      "source": [
        "\r\n",
        "group = df_filtrado.groupby(['SQ_CANDIDATO', 'NM_CANDIDATO'])\r\n",
        "\r\n",
        "group.SQ_CANDIDATO.count()"
      ],
      "execution_count": 6,
      "outputs": [
        {
          "output_type": "execute_result",
          "data": {
            "text/plain": [
              "SQ_CANDIDATO  NM_CANDIDATO                     \n",
              "80000600183   ALEXANDRE MAGNO DE ANDRADE            8\n",
              "80000600184   FABYANNA PONTINI MIRANDA PEREIRA      5\n",
              "80000600185   ULISSES  PINCELLI                    16\n",
              "80000600188   JADIR EDUARDO SOUZA LUCAS            11\n",
              "80000600189   JOSE ANTONIO VERVLOET DO AMARAL      37\n",
              "                                                   ..\n",
              "80000629395   DANIELA MELLISSA DE MATOS QUEZADO     8\n",
              "80000629494   LENILDA MARIA DA SILVA DESTEFANI     12\n",
              "80000629597   MARIA RENATA DIAS DE SOUZA            6\n",
              "80000629763   HUDSON DOS SANTOS                     5\n",
              "80000629914   GLAUCIENE BASILIO DO CARMO            3\n",
              "Name: SQ_CANDIDATO, Length: 735, dtype: int64"
            ]
          },
          "metadata": {
            "tags": []
          },
          "execution_count": 6
        }
      ]
    },
    {
      "cell_type": "code",
      "metadata": {
        "colab": {
          "base_uri": "https://localhost:8080/"
        },
        "id": "IMGEvQyratNB",
        "outputId": "cff3b2d1-5f4b-4265-a87c-026a0306ec07"
      },
      "source": [
        "\r\n",
        "group_sum = group.VR_RECEITA.sum()\r\n",
        "\r\n",
        "group_sum"
      ],
      "execution_count": 7,
      "outputs": [
        {
          "output_type": "execute_result",
          "data": {
            "text/plain": [
              "SQ_CANDIDATO  NM_CANDIDATO                     \n",
              "80000600183   ALEXANDRE MAGNO DE ANDRADE             5713.44\n",
              "80000600184   FABYANNA PONTINI MIRANDA PEREIRA       1913.44\n",
              "80000600185   ULISSES  PINCELLI                     15955.04\n",
              "80000600188   JADIR EDUARDO SOUZA LUCAS              4818.44\n",
              "80000600189   JOSE ANTONIO VERVLOET DO AMARAL       42499.04\n",
              "                                                     ...    \n",
              "80000629395   DANIELA MELLISSA DE MATOS QUEZADO      6153.53\n",
              "80000629494   LENILDA MARIA DA SILVA DESTEFANI     256500.00\n",
              "80000629597   MARIA RENATA DIAS DE SOUZA             1461.78\n",
              "80000629763   HUDSON DOS SANTOS                     25103.81\n",
              "80000629914   GLAUCIENE BASILIO DO CARMO             3820.00\n",
              "Name: VR_RECEITA, Length: 735, dtype: float64"
            ]
          },
          "metadata": {
            "tags": []
          },
          "execution_count": 7
        }
      ]
    },
    {
      "cell_type": "code",
      "metadata": {
        "colab": {
          "base_uri": "https://localhost:8080/"
        },
        "id": "OADUFrmMblD_",
        "outputId": "7ee5af4d-0519-445f-9e33-30de0ff659b9"
      },
      "source": [
        "\r\n",
        "target = group_sum.nlargest(10)\r\n",
        "\r\n",
        "target"
      ],
      "execution_count": 9,
      "outputs": [
        {
          "output_type": "execute_result",
          "data": {
            "text/plain": [
              "SQ_CANDIDATO  NM_CANDIDATO                     \n",
              "80000625512   JOSE RENATO CASAGRANDE               5129650.00\n",
              "80000625509   RICARDO DE REZENDE FERRAÇO           2995299.00\n",
              "80000607499   MAGNO PEREIRA MALTA                  2819275.60\n",
              "80000612953   WELINGTON COIMBRA                    2389868.80\n",
              "80000607498   LAURIETE RODRIGUES DE JESUS MALTA    2312720.00\n",
              "80000612946   ROSILDA DE FREITAS                   1849480.00\n",
              "80000627580   GUSTAVO PEIXOTO SOARES MIGUEL        1831142.20\n",
              "80000622450   NORMA AYUB ALVES                     1688948.86\n",
              "80000607497   GILSON DOS SANTOS LOPES FILHO        1548662.71\n",
              "80000607518   AMARO ROCHA NASCIMENTO NETO          1451448.00\n",
              "Name: VR_RECEITA, dtype: float64"
            ]
          },
          "metadata": {
            "tags": []
          },
          "execution_count": 9
        }
      ]
    },
    {
      "cell_type": "code",
      "metadata": {
        "colab": {
          "base_uri": "https://localhost:8080/"
        },
        "id": "VUmJH1zybqAj",
        "outputId": "1513ad8e-b2b7-49a7-c66b-66a3df0a8bfc"
      },
      "source": [
        "import matplotlib.pyplot as plt\r\n",
        "\r\n",
        "target_clared = target.reset_index('SQ_CANDIDATO', drop=True).sort_values(ascending=True)\r\n",
        "\r\n",
        "target"
      ],
      "execution_count": 10,
      "outputs": [
        {
          "output_type": "execute_result",
          "data": {
            "text/plain": [
              "SQ_CANDIDATO  NM_CANDIDATO                     \n",
              "80000625512   JOSE RENATO CASAGRANDE               5129650.00\n",
              "80000625509   RICARDO DE REZENDE FERRAÇO           2995299.00\n",
              "80000607499   MAGNO PEREIRA MALTA                  2819275.60\n",
              "80000612953   WELINGTON COIMBRA                    2389868.80\n",
              "80000607498   LAURIETE RODRIGUES DE JESUS MALTA    2312720.00\n",
              "80000612946   ROSILDA DE FREITAS                   1849480.00\n",
              "80000627580   GUSTAVO PEIXOTO SOARES MIGUEL        1831142.20\n",
              "80000622450   NORMA AYUB ALVES                     1688948.86\n",
              "80000607497   GILSON DOS SANTOS LOPES FILHO        1548662.71\n",
              "80000607518   AMARO ROCHA NASCIMENTO NETO          1451448.00\n",
              "Name: VR_RECEITA, dtype: float64"
            ]
          },
          "metadata": {
            "tags": []
          },
          "execution_count": 10
        }
      ]
    },
    {
      "cell_type": "code",
      "metadata": {
        "colab": {
          "base_uri": "https://localhost:8080/",
          "height": 496
        },
        "id": "WjqL2K0QcLKb",
        "outputId": "d075128c-1ee9-4001-af6f-57d9e9487501"
      },
      "source": [
        "plt.figure(figsize=(12,8))\r\n",
        "grah = target_clared.plot.barh()\r\n",
        "grah.set_ylabel('Nome do Candidato');"
      ],
      "execution_count": 11,
      "outputs": [
        {
          "output_type": "display_data",
          "data": {
            "image/png": "[encoded data removed]",
            "text/plain": [
              "<Figure size 864x576 with 1 Axes>"
            ]
          },
          "metadata": {
            "tags": [],
            "needs_background": "light"
          }
        }
      ]
    },
    {
      "cell_type": "code",
      "metadata": {
        "colab": {
          "base_uri": "https://localhost:8080/",
          "height": 301
        },
        "id": "qMRkKONDcZcq",
        "outputId": "481f92b9-ec3c-4daa-e4e8-0832d076625f"
      },
      "source": [
        "def formatar_valor(valor):\r\n",
        "  return f'R$ {valor / 1000000:.2f}M'\r\n",
        "\r\n",
        "\r\n",
        "import matplotlib.pyplot as plt\r\n",
        "\r\n",
        "target_cleared = target.reset_index('SQ_CANDIDATO', drop=True).sort_values(ascending=True)\r\n",
        "\r\n",
        "target_formatado = target_cleared.map(formatar_valor)\r\n",
        "\r\n",
        "fig = plt.figure(figsize=(10, 4))\r\n",
        "graph = target_cleared.plot.barh(figure=fig)\r\n",
        "\r\n",
        "graph.set_ylabel('Nome do Candidato')\r\n",
        "\r\n",
        "locations, _ = plt.xticks()\r\n",
        "\r\n",
        "labels = []\r\n",
        "\r\n",
        "for i, location in enumerate(locations):\r\n",
        "  labels.append(formatar_valor(location))\r\n",
        "\r\n",
        "graph.set_xticklabels(labels, rotation=45)\r\n",
        "\r\n",
        "x_offset = 0\r\n",
        "y_offset = 0.1\r\n",
        "\r\n",
        "for index, rectangle in enumerate(graph.patches):\r\n",
        "  box = rectangle.get_bbox()\r\n",
        "\r\n",
        "  vr_receita = target_formatado.values[index]\r\n",
        "  \r\n",
        "  graph.annotate(vr_receita, ((box.x0 + box.x1) / 2 + x_offset, box.y1 + y_offset))\r\n",
        "\r\n",
        "plt.show()"
      ],
      "execution_count": 12,
      "outputs": [
        {
          "output_type": "display_data",
          "data": {
            "image/png": "[encoded data removed]",
            "text/plain": [
              "<Figure size 720x288 with 1 Axes>"
            ]
          },
          "metadata": {
            "tags": [],
            "needs_background": "light"
          }
        }
      ]
    }
  ]
}