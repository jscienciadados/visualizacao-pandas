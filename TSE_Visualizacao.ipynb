{
  "nbformat": 4,
  "nbformat_minor": 0,
  "metadata": {
    "colab": {
      "name": "TSE_Visualizacao.ipynb",
      "provenance": [],
      "authorship_tag": "ABX9TyOkWZdVH9VXQbXeBYo0Gu7g",
      "include_colab_link": true
    },
    "kernelspec": {
      "name": "python3",
      "display_name": "Python 3"
    }
  },
  "cells": [
    {
      "cell_type": "markdown",
      "metadata": {
        "id": "view-in-github",
        "colab_type": "text"
      },
      "source": [
        "<a href=\"https://colab.research.google.com/github/jscienciadados/visualizacao-pandas/blob/main/TSE_Visualizacao.ipynb\" target=\"_parent\"><img src=\"https://colab.research.google.com/assets/colab-badge.svg\" alt=\"Open In Colab\"/></a>"
      ]
    },
    {
      "cell_type": "markdown",
      "metadata": {
        "id": "PbS7H7ABVhhs"
      },
      "source": [
        "# Analisando Dados do TSE Eleiçoes Estaduais 2018 - Espirito Santo"
      ]
    },
    {
      "cell_type": "code",
      "metadata": {
        "id": "S7bK7OXsVMBD"
      },
      "source": [
        "\r\n",
        "import pandas as pd\r\n",
        "\r\n",
        "sigla_uf = 'ES'\r\n",
        "\r\n",
        "nome_arquivo = f'receitas_candidatos_2018_{sigla_uf}.csv'\r\n",
        "url_arquivo = f'https://raw.githubusercontent.com/paulosalvatore/Ocean_CienciaDados_24_02_2021/main/receitas_candidatos/{nome_arquivo}'\r\n",
        "\r\n",
        "df = pd.read_csv(url_arquivo, sep=';', encoding='latin-1', decimal=',')"
      ],
      "execution_count": 6,
      "outputs": []
    },
    {
      "cell_type": "code",
      "metadata": {
        "colab": {
          "base_uri": "https://localhost:8080/",
          "height": 332
        },
        "id": "p1-nKvPBWdTc",
        "outputId": "a26587cf-c695-4967-87a9-ef91f628f2e9"
      },
      "source": [
        "df.head(3)"
      ],
      "execution_count": 7,
      "outputs": [
        {
          "output_type": "execute_result",
          "data": {
            "text/html": [
              "<div>\n",
              "<style scoped>\n",
              "    .dataframe tbody tr th:only-of-type {\n",
              "        vertical-align: middle;\n",
              "    }\n",
              "\n",
              "    .dataframe tbody tr th {\n",
              "        vertical-align: top;\n",
              "    }\n",
              "\n",
              "    .dataframe thead th {\n",
              "        text-align: right;\n",
              "    }\n",
              "</style>\n",
              "<table border=\"1\" class=\"dataframe\">\n",
              "  <thead>\n",
              "    <tr style=\"text-align: right;\">\n",
              "      <th></th>\n",
              "      <th>DT_GERACAO</th>\n",
              "      <th>HH_GERACAO</th>\n",
              "      <th>ANO_ELEICAO</th>\n",
              "      <th>CD_TIPO_ELEICAO</th>\n",
              "      <th>NM_TIPO_ELEICAO</th>\n",
              "      <th>CD_ELEICAO</th>\n",
              "      <th>DS_ELEICAO</th>\n",
              "      <th>DT_ELEICAO</th>\n",
              "      <th>ST_TURNO</th>\n",
              "      <th>TP_PRESTACAO_CONTAS</th>\n",
              "      <th>DT_PRESTACAO_CONTAS</th>\n",
              "      <th>SQ_PRESTADOR_CONTAS</th>\n",
              "      <th>SG_UF</th>\n",
              "      <th>SG_UE</th>\n",
              "      <th>NM_UE</th>\n",
              "      <th>NR_CNPJ_PRESTADOR_CONTA</th>\n",
              "      <th>CD_CARGO</th>\n",
              "      <th>DS_CARGO</th>\n",
              "      <th>SQ_CANDIDATO</th>\n",
              "      <th>NR_CANDIDATO</th>\n",
              "      <th>NM_CANDIDATO</th>\n",
              "      <th>NR_CPF_CANDIDATO</th>\n",
              "      <th>NR_CPF_VICE_CANDIDATO</th>\n",
              "      <th>NR_PARTIDO</th>\n",
              "      <th>SG_PARTIDO</th>\n",
              "      <th>NM_PARTIDO</th>\n",
              "      <th>CD_FONTE_RECEITA</th>\n",
              "      <th>DS_FONTE_RECEITA</th>\n",
              "      <th>CD_ORIGEM_RECEITA</th>\n",
              "      <th>DS_ORIGEM_RECEITA</th>\n",
              "      <th>CD_NATUREZA_RECEITA</th>\n",
              "      <th>DS_NATUREZA_RECEITA</th>\n",
              "      <th>CD_ESPECIE_RECEITA</th>\n",
              "      <th>DS_ESPECIE_RECEITA</th>\n",
              "      <th>CD_CNAE_DOADOR</th>\n",
              "      <th>DS_CNAE_DOADOR</th>\n",
              "      <th>NR_CPF_CNPJ_DOADOR</th>\n",
              "      <th>NM_DOADOR</th>\n",
              "      <th>NM_DOADOR_RFB</th>\n",
              "      <th>CD_ESFERA_PARTIDARIA_DOADOR</th>\n",
              "      <th>DS_ESFERA_PARTIDARIA_DOADOR</th>\n",
              "      <th>SG_UF_DOADOR</th>\n",
              "      <th>CD_MUNICIPIO_DOADOR</th>\n",
              "      <th>NM_MUNICIPIO_DOADOR</th>\n",
              "      <th>SQ_CANDIDATO_DOADOR</th>\n",
              "      <th>NR_CANDIDATO_DOADOR</th>\n",
              "      <th>CD_CARGO_CANDIDATO_DOADOR</th>\n",
              "      <th>DS_CARGO_CANDIDATO_DOADOR</th>\n",
              "      <th>NR_PARTIDO_DOADOR</th>\n",
              "      <th>SG_PARTIDO_DOADOR</th>\n",
              "      <th>NM_PARTIDO_DOADOR</th>\n",
              "      <th>NR_RECIBO_DOACAO</th>\n",
              "      <th>NR_DOCUMENTO_DOACAO</th>\n",
              "      <th>SQ_RECEITA</th>\n",
              "      <th>DT_RECEITA</th>\n",
              "      <th>DS_RECEITA</th>\n",
              "      <th>VR_RECEITA</th>\n",
              "    </tr>\n",
              "  </thead>\n",
              "  <tbody>\n",
              "    <tr>\n",
              "      <th>0</th>\n",
              "      <td>11/03/2020</td>\n",
              "      <td>01:27:32</td>\n",
              "      <td>2018</td>\n",
              "      <td>2</td>\n",
              "      <td>Ordinária</td>\n",
              "      <td>297</td>\n",
              "      <td>Eleição Geral Federal 2018</td>\n",
              "      <td>07/10/2018</td>\n",
              "      <td>1</td>\n",
              "      <td>Final</td>\n",
              "      <td>28/10/2019</td>\n",
              "      <td>427245579</td>\n",
              "      <td>ES</td>\n",
              "      <td>ES</td>\n",
              "      <td>ESPÍRITO SANTO</td>\n",
              "      <td>31234606000115</td>\n",
              "      <td>7</td>\n",
              "      <td>Deputado Estadual</td>\n",
              "      <td>80000622506</td>\n",
              "      <td>12600</td>\n",
              "      <td>WALDREM MARCELO OLIVEIRA</td>\n",
              "      <td>7729957701</td>\n",
              "      <td>-1</td>\n",
              "      <td>12</td>\n",
              "      <td>PDT</td>\n",
              "      <td>Partido Democrático Trabalhista</td>\n",
              "      <td>1</td>\n",
              "      <td>Outros Recursos</td>\n",
              "      <td>10040000</td>\n",
              "      <td>Recursos de outros candidatos</td>\n",
              "      <td>0</td>\n",
              "      <td>Estimável</td>\n",
              "      <td>2</td>\n",
              "      <td>Estimado</td>\n",
              "      <td>94928</td>\n",
              "      <td>Atividades de organizações políticas</td>\n",
              "      <td>31236275000152</td>\n",
              "      <td>ELEIÇOES 2018 ANTONIO SERGIO ALVES VIDIGAL DEP...</td>\n",
              "      <td>ELEICAO 2018 ANTONIO SERGIO ALVES VIDIGAL DEPU...</td>\n",
              "      <td>#NULO#</td>\n",
              "      <td>#NULO#</td>\n",
              "      <td>ES</td>\n",
              "      <td>-1</td>\n",
              "      <td>#NULO#</td>\n",
              "      <td>80000622443</td>\n",
              "      <td>1212</td>\n",
              "      <td>6</td>\n",
              "      <td>Deputado Federal</td>\n",
              "      <td>12</td>\n",
              "      <td>PDT</td>\n",
              "      <td>Partido Democrático Trabalhista</td>\n",
              "      <td>#NULO#</td>\n",
              "      <td>#NULO#</td>\n",
              "      <td>12520046</td>\n",
              "      <td>03/10/2018</td>\n",
              "      <td>ADESIVO LEITOSO 20X40CM CASADO SERGIO/WALDREM</td>\n",
              "      <td>160.00</td>\n",
              "    </tr>\n",
              "    <tr>\n",
              "      <th>1</th>\n",
              "      <td>11/03/2020</td>\n",
              "      <td>01:27:32</td>\n",
              "      <td>2018</td>\n",
              "      <td>2</td>\n",
              "      <td>Ordinária</td>\n",
              "      <td>297</td>\n",
              "      <td>Eleição Geral Federal 2018</td>\n",
              "      <td>07/10/2018</td>\n",
              "      <td>1</td>\n",
              "      <td>Final</td>\n",
              "      <td>28/10/2019</td>\n",
              "      <td>427245579</td>\n",
              "      <td>ES</td>\n",
              "      <td>ES</td>\n",
              "      <td>ESPÍRITO SANTO</td>\n",
              "      <td>31234606000115</td>\n",
              "      <td>7</td>\n",
              "      <td>Deputado Estadual</td>\n",
              "      <td>80000622506</td>\n",
              "      <td>12600</td>\n",
              "      <td>WALDREM MARCELO OLIVEIRA</td>\n",
              "      <td>7729957701</td>\n",
              "      <td>-1</td>\n",
              "      <td>12</td>\n",
              "      <td>PDT</td>\n",
              "      <td>Partido Democrático Trabalhista</td>\n",
              "      <td>1</td>\n",
              "      <td>Outros Recursos</td>\n",
              "      <td>10040000</td>\n",
              "      <td>Recursos de outros candidatos</td>\n",
              "      <td>0</td>\n",
              "      <td>Estimável</td>\n",
              "      <td>2</td>\n",
              "      <td>Estimado</td>\n",
              "      <td>94928</td>\n",
              "      <td>Atividades de organizações políticas</td>\n",
              "      <td>31242334000103</td>\n",
              "      <td>ELEIÇÃO 2018 JOSE RENATO CASAGRANDE GOVERNADOR</td>\n",
              "      <td>ELEICAO 2018 JOSE RENATO CASAGRANDE GOVERNADOR</td>\n",
              "      <td>#NULO#</td>\n",
              "      <td>#NULO#</td>\n",
              "      <td>ES</td>\n",
              "      <td>-1</td>\n",
              "      <td>#NULO#</td>\n",
              "      <td>80000625512</td>\n",
              "      <td>40</td>\n",
              "      <td>3</td>\n",
              "      <td>Governador</td>\n",
              "      <td>40</td>\n",
              "      <td>PSB</td>\n",
              "      <td>Partido Socialista Brasileiro</td>\n",
              "      <td>126000700000ES000008E</td>\n",
              "      <td>#NULO#</td>\n",
              "      <td>12520044</td>\n",
              "      <td>01/10/2018</td>\n",
              "      <td>PRODUÇÃO DE PROGRAMA DE TV</td>\n",
              "      <td>88.23</td>\n",
              "    </tr>\n",
              "    <tr>\n",
              "      <th>2</th>\n",
              "      <td>11/03/2020</td>\n",
              "      <td>01:27:32</td>\n",
              "      <td>2018</td>\n",
              "      <td>2</td>\n",
              "      <td>Ordinária</td>\n",
              "      <td>297</td>\n",
              "      <td>Eleição Geral Federal 2018</td>\n",
              "      <td>07/10/2018</td>\n",
              "      <td>1</td>\n",
              "      <td>Final</td>\n",
              "      <td>28/10/2019</td>\n",
              "      <td>427245579</td>\n",
              "      <td>ES</td>\n",
              "      <td>ES</td>\n",
              "      <td>ESPÍRITO SANTO</td>\n",
              "      <td>31234606000115</td>\n",
              "      <td>7</td>\n",
              "      <td>Deputado Estadual</td>\n",
              "      <td>80000622506</td>\n",
              "      <td>12600</td>\n",
              "      <td>WALDREM MARCELO OLIVEIRA</td>\n",
              "      <td>7729957701</td>\n",
              "      <td>-1</td>\n",
              "      <td>12</td>\n",
              "      <td>PDT</td>\n",
              "      <td>Partido Democrático Trabalhista</td>\n",
              "      <td>2</td>\n",
              "      <td>Fundo Especial</td>\n",
              "      <td>10040000</td>\n",
              "      <td>Recursos de outros candidatos</td>\n",
              "      <td>0</td>\n",
              "      <td>Estimável</td>\n",
              "      <td>2</td>\n",
              "      <td>Estimado</td>\n",
              "      <td>94928</td>\n",
              "      <td>Atividades de organizações políticas</td>\n",
              "      <td>31242334000103</td>\n",
              "      <td>ELEIÇÃO 2018 JOSE RENATO CASAGRANDE GOVERNADOR</td>\n",
              "      <td>ELEICAO 2018 JOSE RENATO CASAGRANDE GOVERNADOR</td>\n",
              "      <td>#NULO#</td>\n",
              "      <td>#NULO#</td>\n",
              "      <td>ES</td>\n",
              "      <td>-1</td>\n",
              "      <td>#NULO#</td>\n",
              "      <td>80000625512</td>\n",
              "      <td>40</td>\n",
              "      <td>3</td>\n",
              "      <td>Governador</td>\n",
              "      <td>40</td>\n",
              "      <td>PSB</td>\n",
              "      <td>Partido Socialista Brasileiro</td>\n",
              "      <td>126000700000ES000006E</td>\n",
              "      <td>#NULO#</td>\n",
              "      <td>12520042</td>\n",
              "      <td>04/09/2018</td>\n",
              "      <td>SERVIÇOS ESPECIALIZADOS DE CRIAÇÃO DE MARCA· F...</td>\n",
              "      <td>507.61</td>\n",
              "    </tr>\n",
              "  </tbody>\n",
              "</table>\n",
              "</div>"
            ],
            "text/plain": [
              "   DT_GERACAO  ... VR_RECEITA\n",
              "0  11/03/2020  ...     160.00\n",
              "1  11/03/2020  ...      88.23\n",
              "2  11/03/2020  ...     507.61\n",
              "\n",
              "[3 rows x 57 columns]"
            ]
          },
          "metadata": {
            "tags": []
          },
          "execution_count": 7
        }
      ]
    },
    {
      "cell_type": "code",
      "metadata": {
        "id": "C_d7m2j_Y-rW"
      },
      "source": [
        "colunas = ['SQ_CANDIDATO', 'NM_CANDIDATO', 'VR_RECEITA']\r\n",
        "df_filtrado = df[colunas]"
      ],
      "execution_count": 8,
      "outputs": []
    },
    {
      "cell_type": "code",
      "metadata": {
        "colab": {
          "base_uri": "https://localhost:8080/"
        },
        "id": "XTCQjYxqaksP",
        "outputId": "96ca1e92-ac00-4bee-cf67-abcf19a1370a"
      },
      "source": [
        "len(df_filtrado.SQ_CANDIDATO.unique())"
      ],
      "execution_count": 9,
      "outputs": [
        {
          "output_type": "execute_result",
          "data": {
            "text/plain": [
              "735"
            ]
          },
          "metadata": {
            "tags": []
          },
          "execution_count": 9
        }
      ]
    },
    {
      "cell_type": "code",
      "metadata": {
        "colab": {
          "base_uri": "https://localhost:8080/"
        },
        "id": "p75SEwTUalm0",
        "outputId": "5d46a2ca-bb09-477b-8a41-c26ace625ea1"
      },
      "source": [
        "\r\n",
        "len(df_filtrado.NM_CANDIDATO.unique())"
      ],
      "execution_count": 10,
      "outputs": [
        {
          "output_type": "execute_result",
          "data": {
            "text/plain": [
              "735"
            ]
          },
          "metadata": {
            "tags": []
          },
          "execution_count": 10
        }
      ]
    },
    {
      "cell_type": "code",
      "metadata": {
        "colab": {
          "base_uri": "https://localhost:8080/"
        },
        "id": "XVrFTSY5apBg",
        "outputId": "f31b1088-3431-4a73-aa31-0027227357b6"
      },
      "source": [
        "\r\n",
        "group = df_filtrado.groupby(['SQ_CANDIDATO', 'NM_CANDIDATO'])\r\n",
        "\r\n",
        "group.SQ_CANDIDATO.count()"
      ],
      "execution_count": 11,
      "outputs": [
        {
          "output_type": "execute_result",
          "data": {
            "text/plain": [
              "SQ_CANDIDATO  NM_CANDIDATO                     \n",
              "80000600183   ALEXANDRE MAGNO DE ANDRADE            8\n",
              "80000600184   FABYANNA PONTINI MIRANDA PEREIRA      5\n",
              "80000600185   ULISSES  PINCELLI                    16\n",
              "80000600188   JADIR EDUARDO SOUZA LUCAS            11\n",
              "80000600189   JOSE ANTONIO VERVLOET DO AMARAL      37\n",
              "                                                   ..\n",
              "80000629395   DANIELA MELLISSA DE MATOS QUEZADO     8\n",
              "80000629494   LENILDA MARIA DA SILVA DESTEFANI     12\n",
              "80000629597   MARIA RENATA DIAS DE SOUZA            6\n",
              "80000629763   HUDSON DOS SANTOS                     5\n",
              "80000629914   GLAUCIENE BASILIO DO CARMO            3\n",
              "Name: SQ_CANDIDATO, Length: 735, dtype: int64"
            ]
          },
          "metadata": {
            "tags": []
          },
          "execution_count": 11
        }
      ]
    },
    {
      "cell_type": "code",
      "metadata": {
        "colab": {
          "base_uri": "https://localhost:8080/"
        },
        "id": "IMGEvQyratNB",
        "outputId": "41ff30fe-e0e7-4722-f8cb-b20e1f7cb034"
      },
      "source": [
        "\r\n",
        "group_sum = group.VR_RECEITA.sum()\r\n",
        "\r\n",
        "group_sum"
      ],
      "execution_count": 12,
      "outputs": [
        {
          "output_type": "execute_result",
          "data": {
            "text/plain": [
              "SQ_CANDIDATO  NM_CANDIDATO                     \n",
              "80000600183   ALEXANDRE MAGNO DE ANDRADE             5713.44\n",
              "80000600184   FABYANNA PONTINI MIRANDA PEREIRA       1913.44\n",
              "80000600185   ULISSES  PINCELLI                     15955.04\n",
              "80000600188   JADIR EDUARDO SOUZA LUCAS              4818.44\n",
              "80000600189   JOSE ANTONIO VERVLOET DO AMARAL       42499.04\n",
              "                                                     ...    \n",
              "80000629395   DANIELA MELLISSA DE MATOS QUEZADO      6153.53\n",
              "80000629494   LENILDA MARIA DA SILVA DESTEFANI     256500.00\n",
              "80000629597   MARIA RENATA DIAS DE SOUZA             1461.78\n",
              "80000629763   HUDSON DOS SANTOS                     25103.81\n",
              "80000629914   GLAUCIENE BASILIO DO CARMO             3820.00\n",
              "Name: VR_RECEITA, Length: 735, dtype: float64"
            ]
          },
          "metadata": {
            "tags": []
          },
          "execution_count": 12
        }
      ]
    },
    {
      "cell_type": "code",
      "metadata": {
        "colab": {
          "base_uri": "https://localhost:8080/"
        },
        "id": "OADUFrmMblD_",
        "outputId": "b72edca8-f3b8-4c9f-aeb4-751e31897aa0"
      },
      "source": [
        "\r\n",
        "target = group_sum.nlargest(10)\r\n",
        "\r\n",
        "target"
      ],
      "execution_count": 14,
      "outputs": [
        {
          "output_type": "execute_result",
          "data": {
            "text/plain": [
              "SQ_CANDIDATO  NM_CANDIDATO                     \n",
              "80000625512   JOSE RENATO CASAGRANDE               5129650.00\n",
              "80000625509   RICARDO DE REZENDE FERRAÇO           2995299.00\n",
              "80000607499   MAGNO PEREIRA MALTA                  2819275.60\n",
              "80000612953   WELINGTON COIMBRA                    2389868.80\n",
              "80000607498   LAURIETE RODRIGUES DE JESUS MALTA    2312720.00\n",
              "80000612946   ROSILDA DE FREITAS                   1849480.00\n",
              "80000627580   GUSTAVO PEIXOTO SOARES MIGUEL        1831142.20\n",
              "80000622450   NORMA AYUB ALVES                     1688948.86\n",
              "80000607497   GILSON DOS SANTOS LOPES FILHO        1548662.71\n",
              "80000607518   AMARO ROCHA NASCIMENTO NETO          1451448.00\n",
              "Name: VR_RECEITA, dtype: float64"
            ]
          },
          "metadata": {
            "tags": []
          },
          "execution_count": 14
        }
      ]
    },
    {
      "cell_type": "code",
      "metadata": {
        "colab": {
          "base_uri": "https://localhost:8080/"
        },
        "id": "VUmJH1zybqAj",
        "outputId": "d095b8a9-5f54-429c-a027-9c1818b612c7"
      },
      "source": [
        "import matplotlib.pyplot as plt\r\n",
        "\r\n",
        "target_clared = target.reset_index('SQ_CANDIDATO', drop=True).sort_values(ascending=True)\r\n",
        "\r\n",
        "target"
      ],
      "execution_count": 17,
      "outputs": [
        {
          "output_type": "execute_result",
          "data": {
            "text/plain": [
              "SQ_CANDIDATO  NM_CANDIDATO                     \n",
              "80000625512   JOSE RENATO CASAGRANDE               5129650.00\n",
              "80000625509   RICARDO DE REZENDE FERRAÇO           2995299.00\n",
              "80000607499   MAGNO PEREIRA MALTA                  2819275.60\n",
              "80000612953   WELINGTON COIMBRA                    2389868.80\n",
              "80000607498   LAURIETE RODRIGUES DE JESUS MALTA    2312720.00\n",
              "80000612946   ROSILDA DE FREITAS                   1849480.00\n",
              "80000627580   GUSTAVO PEIXOTO SOARES MIGUEL        1831142.20\n",
              "80000622450   NORMA AYUB ALVES                     1688948.86\n",
              "80000607497   GILSON DOS SANTOS LOPES FILHO        1548662.71\n",
              "80000607518   AMARO ROCHA NASCIMENTO NETO          1451448.00\n",
              "Name: VR_RECEITA, dtype: float64"
            ]
          },
          "metadata": {
            "tags": []
          },
          "execution_count": 17
        }
      ]
    },
    {
      "cell_type": "code",
      "metadata": {
        "colab": {
          "base_uri": "https://localhost:8080/",
          "height": 496
        },
        "id": "WjqL2K0QcLKb",
        "outputId": "126b541a-1e34-4080-8e95-a569fbf9649d"
      },
      "source": [
        "plt.figure(figsize=(12,8))\r\n",
        "grah = target_clared.plot.barh()\r\n",
        "grah.set_ylabel('Nome do Candidato');"
      ],
      "execution_count": 21,
      "outputs": [
        {
          "output_type": "display_data",
          "data": {
            "image/png": "[encoded data removed]",
            "text/plain": [
              "<Figure size 864x576 with 1 Axes>"
            ]
          },
          "metadata": {
            "tags": [],
            "needs_background": "light"
          }
        }
      ]
    },
    {
      "cell_type": "code",
      "metadata": {
        "colab": {
          "base_uri": "https://localhost:8080/",
          "height": 312
        },
        "id": "qMRkKONDcZcq",
        "outputId": "a1ee2361-092c-4a48-eac2-e9ea82975ef3"
      },
      "source": [
        "def formatar_valor(valor):\r\n",
        "  return f'R$ {valor / 1000000:.2f}M'\r\n",
        "\r\n",
        "\r\n",
        "import matplotlib.pyplot as plt\r\n",
        "\r\n",
        "target_cleared = target.reset_index('SQ_CANDIDATO', drop=True).sort_values(ascending=True)\r\n",
        "\r\n",
        "target_formatado = target_cleared.map(formatar_valor)\r\n",
        "\r\n",
        "fig = plt.figure(figsize=(12, 4))\r\n",
        "graph = target_cleared.plot.barh(figure=fig)\r\n",
        "\r\n",
        "graph.set_ylabel('Nome do Candidato')\r\n",
        "graph.set_xticklabels(target_formatado.values, rotation=45)\r\n",
        "\r\n",
        "x_offset = 0\r\n",
        "y_offset = 0.1\r\n",
        "\r\n",
        "for index, rectangle in enumerate(graph.patches):\r\n",
        "  box = rectangle.get_bbox()\r\n",
        "\r\n",
        "  vr_receita = target_formatado.values[index]\r\n",
        "  \r\n",
        "  graph.annotate(vr_receita, ((box.x0 + box.x1) + x_offset, box.y1 + y_offset))\r\n",
        "\r\n",
        "plt.locator_params(nbins=10)\r\n",
        "plt.title('Receita dos Candidados ao Governo do Estado do Espirito Santo')\r\n",
        "plt.show()"
      ],
      "execution_count": 30,
      "outputs": [
        {
          "output_type": "display_data",
          "data": {
            "image/png": "[encoded data removed]",
            "text/plain": [
              "<Figure size 864x288 with 1 Axes>"
            ]
          },
          "metadata": {
            "tags": [],
            "needs_background": "light"
          }
        }
      ]
    }
  ]
}